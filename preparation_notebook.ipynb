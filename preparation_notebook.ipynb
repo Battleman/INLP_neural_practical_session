{
 "cells": [
  {
   "cell_type": "markdown",
   "metadata": {},
   "source": [
    "## Cheking if all needed libraries are available"
   ]
  },
  {
   "cell_type": "code",
   "execution_count": 9,
   "metadata": {},
   "outputs": [
    {
     "name": "stdout",
     "output_type": "stream",
     "text": [
      "All the needed libraries are installed!\n"
     ]
    }
   ],
   "source": [
    "import numpy as np\n",
    "import sklearn\n",
    "import matplotlib.pyplot as plt\n",
    "import seaborn as sns\n",
    "import nltk\n",
    "import torch\n",
    "import torchtext\n",
    "import fasttext\n",
    "\n",
    "\n",
    "print(\"All the needed libraries are installed!\")"
   ]
  },
  {
   "cell_type": "markdown",
   "metadata": {},
   "source": [
    "## Downloading needed datasets"
   ]
  },
  {
   "cell_type": "code",
   "execution_count": 10,
   "metadata": {},
   "outputs": [
    {
     "name": "stdout",
     "output_type": "stream",
     "text": [
      "All the needed datasets has been downloaded!\n"
     ]
    }
   ],
   "source": [
    "import nltk\n",
    "import torch\n",
    "from torchtext import data, datasets\n",
    "from torchtext.vocab import GloVe\n",
    "from sklearn.datasets import fetch_20newsgroups\n",
    "\n",
    "\n",
    "nltk.download('stopwords')\n",
    "news = fetch_20newsgroups(subset='all')\n",
    "\n",
    "\n",
    "glove_embeddings = GloVe(name='6B', dim=300 )\n",
    "\n",
    "\n",
    "tokenize = lambda x: x.split()\n",
    "TEXT = data.Field(sequential=True, tokenize=tokenize, lower=True, include_lengths=True, fix_length=200)\n",
    "LABEL = data.LabelField( dtype=torch.float )\n",
    "train_data, test_data = datasets.IMDB.splits(TEXT, LABEL )\n",
    "\n",
    "\n",
    "\n",
    "print(\"All the needed datasets has been downloaded!\")"
   ]
  }
 ],
 "metadata": {
  "kernelspec": {
   "display_name": "Python 3",
   "language": "python",
   "name": "python3"
  },
  "language_info": {
   "codemirror_mode": {
    "name": "ipython",
    "version": 3
   },
   "file_extension": ".py",
   "mimetype": "text/x-python",
   "name": "python",
   "nbconvert_exporter": "python",
   "pygments_lexer": "ipython3",
   "version": "3.7.1"
  }
 },
 "nbformat": 4,
 "nbformat_minor": 2
}
